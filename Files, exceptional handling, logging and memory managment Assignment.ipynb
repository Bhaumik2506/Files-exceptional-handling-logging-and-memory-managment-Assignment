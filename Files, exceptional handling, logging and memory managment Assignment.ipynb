{
 "cells": [
  {
   "cell_type": "markdown",
   "id": "2656ed2c",
   "metadata": {},
   "source": [
    "# ***Files, exceptional handling, logging and memory managment Assignment***"
   ]
  },
  {
   "cell_type": "markdown",
   "id": "0d79f223",
   "metadata": {},
   "source": [
    "### Q.1 What is the difference between interpreted and compiled languages ?\n",
    "Answer - In a compiled language, the program is converted into machine code so that the processor can execute it directly.\n",
    "This process involves at least two steps to get from source code to execution, and the compiled programs tend to run faster and more efficiently than interpreted programs.\n",
    "In contrast, an interpreted language is executed by an interpreter that reads and executes the code line by line without compiling it into machine code first.\n",
    "This allows for easier modification during runtime but generally results in slower performance.\n",
    "\n",
    "Examples of compiled languages include C, C++, and C#, while JavaScript, Python, and BASIC are examples of interpreted languages."
   ]
  },
  {
   "cell_type": "markdown",
   "id": "b0013292",
   "metadata": {},
   "source": [
    "### Q.2  What is exception handling in Python ?\n",
    "\n",
    "Answer - Exception handling in Python is a process that allows the program to respond to errors that occur during execution, preventing the program from crashing abruptly.\n",
    "It involves catching exceptions, understanding what caused them, and then responding accordingly. Exceptions are errors that occur at runtime when the program is being executed, often caused by invalid user input or code that is invalid in Python.\n",
    "\n",
    "Python exception handling is done using the try, except, else, and finally blocks. The try block contains code that might cause an exception, the except block handles the exception, the else block runs if no exception occurs, and the finally block runs regardless of whether an exception occurs.\n",
    "\n",
    "For example, if a division operation by zero occurs, the try block will raise a ZeroDivisionError, and the except block will handle it by printing an error message instead of stopping the program.\n",
    "\n",
    "Exception handling allows the program to continue executing even if an error occurs, making the code more robust and user-friendly."
   ]
  },
  {
   "cell_type": "markdown",
   "id": "eab4fcbd",
   "metadata": {},
   "source": [
    "### Q.3  What is the purpose of the finally block in exception handling ?\n",
    "\n",
    "Answer - The purpose of the finally block in exception handling is to ensure that specific code is executed regardless of whether an exception occurs or not. This block is crucial for cleanup tasks such as closing files or releasing resources, ensuring that essential operations are completed even if errors occur during execution.\n",
    "\n",
    "The finally block always executes when the try block exits, whether an exception is thrown or not. This makes it suitable for performing cleanup actions that must be executed to maintain program integrity.\n",
    "\n",
    "In conjunction with try and catch blocks, the finally block provides a mechanism to execute essential cleanup code that must run no matter what happens in the protected code, contributing to the robustness and reliability of the application."
   ]
  },
  {
   "cell_type": "markdown",
   "id": "9697cfd4",
   "metadata": {},
   "source": [
    "### Q.4  What is logging in Python ?\n",
    "\n",
    "Answer - Logging in Python is a built-in feature that allows developers to record important information during program execution, helping them to understand code, debug errors, analyze performance, and monitor application usage.\n",
    "\n",
    "The logging module provides a flexible and powerful framework for logging messages from the Python application. It can be used to log messages to various destinations such as consoles, files, or network sockets.\n",
    "\n",
    "Logging includes three main components: loggers, handlers, and formatters. Loggers are used to create a logging object, handlers determine where the log messages are sent, and formatters define the format of the log messages.\n",
    "\n",
    "Python’s logging module offers five levels that specify the severity of events: NOTSET, DEBUG, INFO, WARNING, ERROR, and CRITICAL. Each level has a corresponding method to log events based on their severity.\n"
   ]
  },
  {
   "cell_type": "markdown",
   "id": "2df9db05",
   "metadata": {},
   "source": [
    "### Q.5  What is the significance of the __del__ method in Python ?\n",
    "\n",
    "Answer - The del method in Python is a special method that is called when an object is about to be destroyed by Python's garbage collector, which happens when an object's reference count drops to zero.\n",
    "\n",
    "This method allows an object to perform cleanup actions, such as closing files, releasing locks, or closing network connections, before it is destroyed.\n",
    "However, it is important to note that the del method does not guarantee cleanup in all scenarios, particularly when the interpreter exits.\n",
    "The proper use of del can enhance the robustness and reliability of applications by preventing resource leaks and ensuring that resources are properly released.\n",
    "Despite its potential usefulness, relying solely on del for resource management is not recommended due to the lack of guarantees about when it will be called."
   ]
  },
  {
   "cell_type": "markdown",
   "id": "c03b1fca",
   "metadata": {},
   "source": [
    "### Q.6  What is the difference between import and from ... import in Python ?\n",
    "\n",
    "Answer - In Python, the import statement and the from ... import statement serve similar purposes but operate differently.\n",
    "\n",
    "The import statement is used to import a module or a module's attribute into the current namespace. When you use import x, you can access the module's attributes by prefixing them with the module name, like x.attribute.\n",
    "\n",
    "On the other hand, the from ... import statement is used to import specific attributes from a module into the current namespace. This allows you to use the attributes directly without prefixing them with the module name. For example, from x import attribute lets you use attribute directly.\n",
    "\n",
    "Using import x is generally preferred as it avoids polluting the namespace and makes it clear where each attribute comes from, which can be crucial in large projects.\n",
    "However, from x import * can be used to import all definitions from a module, but it is generally discouraged because it can lead to name collisions and make the code harder to understand.\n",
    "\n",
    "When considering performance, importing the entire module (import x) is typically faster because it avoids the overhead of importing specific attributes and resolving names."
   ]
  },
  {
   "cell_type": "markdown",
   "id": "b1baa6bd",
   "metadata": {},
   "source": [
    "### Q.7  How can you handle multiple exceptions in Python ?\n",
    "\n",
    "Answer - In Python, multiple exceptions can be handled gracefully using either multiple except blocks or by grouping exceptions in a single block. When using multiple except clauses, each one can catch a specific type of exception and handle it accordingly, allowing for fine-grained control over error handling. Alternatively, if the same logic applies to multiple exception types, they can be grouped together in a tuple within a single except statement. For broader error handling, a generic Exception class can be used, although this is typically reserved for logging or fallback purposes. Additionally, Python provides else and finally blocks that can be used to execute code when no exception occurs or to ensure certain cleanup actions are always performed, respectively. This structured approach helps build robust and fault-tolerant programs."
   ]
  },
  {
   "cell_type": "markdown",
   "id": "38b31c69",
   "metadata": {},
   "source": [
    "### Q.8  What is the purpose of the with statement when handling files in Python ?\n",
    "\n",
    "Answer - The with statement in Python is used to manage resources, such as files, by ensuring they are properly closed after operations are completed, even if an error occurs.\n",
    "This statement simplifies code by abstracting away the resource handling logic, making it clearer and safer.\n",
    "When opening a file with the with statement, the file is automatically closed once the nested block of code is done, reducing the risk of data corruption or loss.\n",
    "\n",
    "Additionally, the with statement can be used with other resources like threads, locks, and database connections."
   ]
  },
  {
   "cell_type": "markdown",
   "id": "9ff2e718",
   "metadata": {},
   "source": [
    "### Q.9  What is the difference between multithreading and multiprocessing ?\n",
    "\n",
    "Answer - In Python, multithreading and multiprocessing are used to increase computing power but they operate differently. Multithreading implements concurrency, where multiple threads are generated by a single process and run simultaneously, but due to the Global Interpreter Lock (GIL), they do not run in parallel on multiple cores.\n",
    "This means that even though threads can appear to be running at the same time, they are actually taking turns executing on the CPU.\n",
    "\n",
    "Multiprocessing, on the other hand, implements parallelism by running multiple threads across multiple cores, allowing for true parallel execution of tasks.\n",
    "Each process in multiprocessing has its own separate address space, which can lead to higher memory usage but also allows for more efficient use of CPU resources for CPU-heavy tasks.\n",
    "\n",
    "For IO-bound tasks, multithreading is more efficient because it can effectively hide latency by switching between tasks while waiting for IO operations to complete.\n",
    "However, for CPU-bound tasks, multiprocessing is generally more effective as it can fully utilize multiple cores, leading to significant speedups.\n",
    "\n",
    "In summary, multithreading is better suited for IO-bound tasks where tasks can be paused and resumed efficiently, while multiprocessing is better for CPU-bound tasks where parallel execution is crucial."
   ]
  },
  {
   "cell_type": "markdown",
   "id": "92568e89",
   "metadata": {},
   "source": [
    "### Q.10  What are the advantages of using logging in a program ?\n",
    "\n",
    "Answer - Using logging in a program offers several advantages, including improved troubleshooting and debugging capabilities. Logging allows developers to monitor the state and process of their application, recording notable events, errors, and warnings that can be used to identify and resolve issues more effectively.\n",
    "\n",
    "Logging tools are also scalable and flexible, allowing tech professionals to view logs from anywhere and at any time, enhancing their ability to manage and analyze large volumes of log data generated by various systems.\n",
    "This flexibility is particularly beneficial for remote work and when using different devices.\n",
    "\n",
    "In addition to these benefits, logging in Python provides features such as severity level segmentation, which helps in filtering relevant log messages, and the inclusion of metadata like timestamps, line numbers, and process information, making it easier to pinpoint the source of issues.\n",
    "\n",
    "Furthermore, logging can be configured to send outputs to files, making it easier to parse log files for post-mortem analysis, as opposed to trying to find errors in real-time console outputs.\n",
    "This is particularly useful for debugging scripts after they have failed.\n",
    "\n",
    "Overall, logging is an essential part of software development, facilitating smoother monitoring, troubleshooting, and debugging processes."
   ]
  },
  {
   "cell_type": "markdown",
   "id": "f17b3cf1",
   "metadata": {},
   "source": [
    "### Q.11  What is memory management in Python ?\n",
    "\n",
    "Answer - Memory management in Python involves the allocation and deallocation of memory for program execution, ensuring efficient use of resources.\n",
    "Python uses a private heap space to store all Python objects and data structures, managed internally by the Python memory manager, which the programmer does not have direct access to.\n",
    "\n",
    "This system includes automatic garbage collection to free up memory blocks no longer in use.\n",
    "\n",
    "Python also employs reference counting to track the number of references to an object, aiding in the deallocation process.\n",
    "\n",
    "Memory can be allocated either statically or dynamically; static allocation occurs at compile time and is stored in the stack, while dynamic allocation happens during program execution and uses the heap.\n",
    "\n",
    "Python's memory management simplifies tasks for developers by automating many processes, unlike languages such as C++ that require manual memory management."
   ]
  },
  {
   "cell_type": "markdown",
   "id": "73f6125a",
   "metadata": {},
   "source": [
    "### Q.12  What are the basic steps involved in exception handling in Python ?\n",
    "\n",
    "Answer - Exception handling in Python involves several key steps to manage errors and unusual conditions that may occur during program execution. The primary blocks used in exception handling are try, except, else, and finally.\n",
    "\n",
    "Try Block: This block contains the code that might raise an exception. If an exception occurs, the rest of the code in the try block is skipped.\n",
    "\n",
    "Except Block: This block catches and handles the exception. You can specify multiple except blocks to handle different types of exceptions. For example, you can catch specific \n",
    "exceptions like ZeroDivisionError or handle a broad exception with a general except block.\n",
    "\n",
    "Else Block: This block is optional and executes if no exceptions are raised in the try block.\n",
    "\n",
    "Finally Block: This block is also optional and contains code that will always execute, regardless of whether an exception was raised or not. It is often used for cleanup activities such as closing files or releasing resources."
   ]
  },
  {
   "cell_type": "markdown",
   "id": "70fe120a",
   "metadata": {},
   "source": [
    "### Q.13  Why is memory management important in Python ?\n",
    "\n",
    "Answer - Memory management is important in Python because it ensures efficient use of memory and prevents issues like memory leaks.\n",
    "\n",
    "Python's memory management involves a private heap containing all Python objects and data structures, which is managed internally by the Python memory manager.\n",
    "\n",
    "This manager ensures that memory is allocated and deallocated appropriately, optimizing the use of memory resources.\n",
    "\n",
    "Understanding memory management helps developers write more efficient code and choose appropriate data structures to minimize the program's memory footprint.\n",
    "\n",
    "Additionally, it is crucial for managing large datasets in data science and machine learning applications, ensuring that processing can be done without exhausting available memory.\n",
    "\n",
    "Efficient memory management also contributes to the overall performance and stability of Python applications, especially in scenarios where memory usage can significantly impact the application's behavior."
   ]
  },
  {
   "cell_type": "markdown",
   "id": "4daee5cf",
   "metadata": {},
   "source": [
    "### Q.14  What is the role of try and except in exception handling ?\n",
    "\n",
    "Answer - In Python, the try and except blocks are used to handle errors and exceptions within the code. The try block contains the code that might raise an exception, and the except block is executed if an exception occurs in the try block, allowing the program to handle the error without crashing.\n",
    "\n",
    "The try block is executed first. If an error occurs during the execution of the code inside the try block, the execution of the try block is stopped, and the control is passed to the except block. The except block should only catch exceptions that the programmer is prepared to handle. If an exception is caught, the code in the except block is executed, and the program can continue running.\n",
    "\n",
    "Additionally, the else clause can be used with try and except to specify code that should run only if no exceptions were raised in the try block. This can be clearer than placing the code after the try block, as it avoids catching unexpected errors."
   ]
  },
  {
   "cell_type": "markdown",
   "id": "29ddee99",
   "metadata": {},
   "source": [
    "### Q.15  How does Python's garbage collection system work ?\n",
    "\n",
    "Answer - Python's garbage collection system uses a hybrid approach combining reference counting and generational garbage collection to manage memory efficiently.\n",
    "Reference counting tracks the number of references to an object, and when an object's reference count reaches zero, it is deleted from memory.\n",
    "However, reference counting cannot handle circular references, where two or more objects refer to each other, preventing them from being garbage collected.\n",
    "\n",
    "To address this issue, Python employs generational garbage collection, which divides objects into different generations based on their longevity and frequency of change.\n",
    "Generation 0 contains the youngest and most recently created objects, while generation 2 contains objects that have survived multiple garbage collection cycles.\n",
    "When a garbage collection cycle is triggered, Python first performs reference counting on generation 0 objects. If an object is part of a circular reference, it is moved to generation 1.\n",
    "\n",
    "Python uses a mark-and-sweep algorithm for generational garbage collection on generations 1 and 2. This algorithm marks all objects reachable from root objects and then sweeps through the objects, deleting those that are not marked.\n",
    "This process helps in identifying and reclaiming memory occupied by objects that are no longer in use, preventing memory leaks.\n",
    "\n",
    "The garbage collector is triggered automatically based on a threshold of object allocations and deallocations.\n",
    "However, for long-running applications or embedded systems, manual garbage collection may be necessary to ensure optimal memory management."
   ]
  },
  {
   "cell_type": "markdown",
   "id": "3d8afb40",
   "metadata": {},
   "source": [
    "### Q.16  What is the purpose of the else block in exception handling ?\n",
    "\n",
    "Answer - The else block in exception handling is used to execute code that must run if the try block does not raise an exception. This block is executed only when no exceptions are caught by the preceding except blocks, ensuring that the code inside the else block runs only under the condition that the try block succeeded without any exceptions.\n",
    "\n",
    "For example, in a scenario where you are reading a file, the else block can be used to process the file's contents if the file was successfully opened without any errors.\n",
    "\n",
    "The else block is useful for separating the logic that should run only if no exceptions are raised from the cleanup code that should run regardless of whether an exception was raised. This separation can make the code clearer and easier to understand.\n",
    "\n",
    "Finally, the finally block is always executed, regardless of whether an exception was raised or caught, and it is typically used for cleanup actions such as closing files or releasing resources."
   ]
  },
  {
   "cell_type": "markdown",
   "id": "c3e1cc88",
   "metadata": {},
   "source": [
    "### Q.17  What are the common logging levels in Python ?\n",
    "\n",
    "Answer - The common logging levels in Python are NOTSET, DEBUG, INFO, WARNING, ERROR, and CRITICAL.\n",
    "\n",
    "These levels indicate the severity of events and are used to filter logging messages. NOTSET is used when no specific level is set, DEBUG provides detailed information for developers, INFO confirms that things are working as expected, WARNING indicates something unexpected happened but the software is still working as expected, ERROR indicates the software has not been able to perform some function due to a more serious problem, and CRITICAL indicates a serious error where the program itself may be unable to continue running."
   ]
  },
  {
   "cell_type": "markdown",
   "id": "629b221c",
   "metadata": {},
   "source": [
    "### Q.18  What is the difference between os.fork() and multiprocessing in Python ?\n",
    "\n",
    "Answer - In Python, os.fork() and multiprocessing serve different purposes and have distinct behaviors. os.fork() is a lower-level system call that creates a new process, which is a copy of the existing process, on Unix-like systems. This method does not exist on Windows, making it unsuitable for cross-platform applications. On the other hand, multiprocessing is a higher-level interface that abstracts the process creation and management, providing a more controlled and secure way to handle multiprocessing tasks. It is available on both Unix-like systems and Windows, offering better cross-platform support.\n",
    "\n",
    "The multiprocessing module uses different start methods to create child processes, including fork and spawn. The fork method, which is the default on Unix-like systems, creates child processes that inherit the entire memory space of the parent process, which can be memory-intensive but efficient for sharing data between processes. The spawn method, which is the default on Windows, creates child processes with a clean memory space, reducing the risk of memory-related issues and providing more isolation between the parent and child processes.\n",
    "\n",
    "When using multiprocessing, the start method can be set explicitly, allowing developers to choose the most appropriate method for their specific use case. This flexibility makes multiprocessing a more versatile and safer option for creating and managing processes in Python applications.\n",
    "\n",
    "In summary, while os.fork() provides direct access to the underlying system call for process creation, multiprocessing offers a higher-level, more controlled, and cross-platform approach to handling multiprocessing tasks in Python."
   ]
  },
  {
   "cell_type": "markdown",
   "id": "7846b16d",
   "metadata": {},
   "source": [
    "### Q.19  What is the importance of closing a file in Python ?\n",
    "\n",
    "Answer - Closing a file in Python is crucial for several reasons. It frees up system resources such as memory and file descriptors, ensuring efficient usage of resources by other programs or processes.\n",
    "\n",
    "Additionally, closing a file ensures that the buffer is flushed and all data is written to the file, maintaining data consistency and preventing loss of information.\n",
    "Not closing a file can lead to memory leaks, which can slow down your program or even cause it to crash.\n",
    "\n",
    "Furthermore, it can cause data corruption, especially when writing data to the file, as changes might not be saved correctly until the file is properly closed.\n",
    "\n",
    "Properly closing a file is also a good programming practice that helps prevent potential issues and improves program readability and maintainability."
   ]
  },
  {
   "cell_type": "markdown",
   "id": "4155a70c",
   "metadata": {},
   "source": [
    "### Q.20  What is the difference between file.read() and file.readline() in Python ?\n",
    "\n",
    "Answer - In Python, file.read() reads the entire contents of a file into a string, while file.readline() reads and returns the next line of the file as a string, including the newline character at the end. If you provide an argument to readline(), it will return a maximum of n characters, but it will still include the newline character if it is within the first n characters.\n",
    "\n",
    "file.read() is useful when you need to read the entire file at once, but it can consume a lot of memory for large files. On the other hand, file.readline() is better suited for processing large files line by line, which helps in managing memory usage more efficiently."
   ]
  },
  {
   "cell_type": "markdown",
   "id": "126635a9",
   "metadata": {},
   "source": [
    "### Q.21  What is the logging module in Python used for ?\n",
    "\n",
    "Answer - The logging module in Python is used to record events that occur during the runtime of a software application. It provides a flexible framework for emitting log messages from Python programs, allowing developers to track events, diagnose issues, understand runtime behavior, and analyze user interactions. This module is widely used by libraries and is often the first choice for developers when it comes to logging. It allows applications to configure different log handlers and a way of routing log messages to these handlers, making it highly flexible for managing various use cases.\n",
    "\n",
    "Logging in Python is essential for building dependable software because it creates an audit trail that details various system operations, offering insights into design decisions and helping to diagnose issues.\n"
   ]
  },
  {
   "cell_type": "markdown",
   "id": "cedbfae0",
   "metadata": {},
   "source": [
    "### Q.22  What is the os module in Python used for in file handling ?\n",
    "\n",
    "Answer - The Python os module provides functions for file handling operations, such as reading from and writing to files. For instance, you can use os.open() to open a file and os.read() to read from it, as well as os.write() to write to a file. Additionally, the module allows you to create new files for writing by specifying modes like O_WRONLY and O_CREAT.\n",
    "\n",
    "To write data to a file, you first convert the string data to a byte string using the encode() function and then use the os.write() function with the file descriptor.\n",
    "\n",
    "When reading from a file, you can use the os.read(fd, n) function to read at most n bytes from the file descriptor fd. If the end of the file has been reached, an empty string is returned.\n",
    "\n",
    "It is important to close the file using the os.close() function after completing file operations to ensure that all changes are saved and resources are freed.\n",
    "\n",
    "Moreover, the os module is preferred over executing shell commands directly for file handling tasks because it is more efficient, avoids spawning unnecessary subprocesses, and provides better portability across different operating systems."
   ]
  },
  {
   "cell_type": "markdown",
   "id": "598ec9cc",
   "metadata": {},
   "source": [
    "### Q.23  What are the challenges associated with memory management in Python ?\n",
    "\n",
    "Answer - Memory management in Python presents several challenges, including managing memory leaks, optimizing memory allocation and deallocation, and dealing with the limitations of automatic garbage collection. Memory leaks occur when the system does not release memory taken up by objects that are no longer in use, often because an object is referenced by another object but the reference is never removed, preventing the garbage collector from deallocating the unused object from memory.\n",
    "\n",
    "Another challenge is the overhead associated with frequent memory allocation and deallocation. Instead of frequently allocating and deallocating small memory chunks, developers can use memory pools or object pools to preallocate a fixed amount of memory and reuse it when required, reducing the overhead associated with frequent memory operations.\n",
    "\n",
    "Additionally, while Python's automatic memory management and garbage collection simplify development, they can also introduce inefficiencies, especially in high-performance applications. Understanding and optimizing these mechanisms is crucial for developers aiming to enhance the performance and scalability of their Python applications.\n",
    "\n",
    "Finally, managing large data sets efficiently is another challenge, particularly in applications involving artificial intelligence and machine learning, where effective memory allocation is necessary to avoid running out of memory and to prevent issues like memory leaks."
   ]
  },
  {
   "cell_type": "markdown",
   "id": "87acc903",
   "metadata": {},
   "source": [
    "### Q.24  How do you raise an exception manually in Python ?\n",
    "\n",
    "Answer - To manually raise an exception in Python, you can use the raise keyword followed by the type of exception you want to raise. For example, to raise a ValueError exception, you would use raise ValueError. You can also include an optional error message that provides additional information about the exception.\n",
    "\n",
    "It is generally a good practice to raise exceptions only in exceptional circumstances and not to use them for standard control flow.\n"
   ]
  },
  {
   "cell_type": "markdown",
   "id": "a1969bef",
   "metadata": {},
   "source": [
    "### Q.25  Why is it important to use multithreading in certain applications?\n",
    "\n",
    "Answer - Multithreading is important in certain applications because it allows for the execution of multiple threads within a single program simultaneously, enhancing the performance and responsiveness of that application.\n",
    "This is particularly beneficial in applications that involve user interaction, as it can keep the user interface responsive by separating time-consuming tasks from the main thread.\n",
    "\n",
    "For example, a web server can use multithreading to simultaneously process multiple client requests, thereby serving more clients concurrently and improving overall system efficiency.\n",
    "\n",
    "Moreover, multithreading can lead to better resource utilization by taking advantage of parallel hardware and the performance of symmetric multiprocessors.\n",
    "It also improves server responsiveness and application throughput by allowing many concurrent compute operations and I/O requests within a single process.\n",
    "In complex applications, multithreading can facilitate better code organization and modularity by dividing tasks into smaller, manageable units of execution, each handled by a specific thread.\n",
    "\n",
    "In modern applications, such as real-time multiplayer games, multithreading is essential for handling multiple actions that occur simultaneously or overlap in time, ensuring smooth and responsive gameplay.\n",
    "\n",
    "Additionally, hardware support for multithreading can minimize the amount of software changes needed within the application and the operating system to support multithreading, making it easier to implement and maintain."
   ]
  },
  {
   "cell_type": "markdown",
   "id": "24880f9e",
   "metadata": {},
   "source": [
    "# ***Practical Questions***"
   ]
  },
  {
   "cell_type": "code",
   "execution_count": 26,
   "id": "1f6ae22b",
   "metadata": {},
   "outputs": [],
   "source": [
    "# Q.1 How can you open a file for writing in Python and write a string to it ?\n",
    "\n",
    "with open(\"example.txt\", \"w\") as file:\n",
    "    file.write(\"Hello, this is a string written to the file.\")\n"
   ]
  },
  {
   "cell_type": "code",
   "execution_count": 28,
   "id": "6af4fb4a",
   "metadata": {},
   "outputs": [
    {
     "name": "stdout",
     "output_type": "stream",
     "text": [
      "Hello, this is a string written to the file.\n",
      "This file is only for Assignment"
     ]
    }
   ],
   "source": [
    "# Q.2  Write a Python program to read the contents of a file and print each line\n",
    "\n",
    "with open(\"example.txt\", \"r\") as file:\n",
    "    # Loop through each line in the file\n",
    "    for line in file:\n",
    "        print(line, end=\"\")"
   ]
  },
  {
   "cell_type": "code",
   "execution_count": 6,
   "id": "cea82d1a",
   "metadata": {},
   "outputs": [
    {
     "name": "stdout",
     "output_type": "stream",
     "text": [
      "Error: The file does not exist.\n"
     ]
    }
   ],
   "source": [
    "#Q.3  How would you handle a case where the file doesn't exist while trying to open it for reading ?\n",
    "\n",
    "try:\n",
    "    with open(\"example1.txt\", \"r\") as file:\n",
    "        for line in file:\n",
    "            print(line, end=\"\")\n",
    "except FileNotFoundError:\n",
    "    print(\"Error: The file does not exist.\")\n"
   ]
  },
  {
   "cell_type": "code",
   "execution_count": 7,
   "id": "fbca872a",
   "metadata": {},
   "outputs": [
    {
     "name": "stdout",
     "output_type": "stream",
     "text": [
      "Error: The file 'source.txt' was not found.\n"
     ]
    }
   ],
   "source": [
    "#Q.4  Write a Python script that reads from one file and writes its content to another file ?\n",
    "\n",
    "# Define source and destination file names\n",
    "source_file = \"source.txt\"\n",
    "destination_file = \"destination.txt\"\n",
    "\n",
    "try:\n",
    "    # Open the source file in read mode and destination in write mode\n",
    "    with open(source_file, \"r\") as src, open(destination_file, \"w\") as dest:\n",
    "        # Read from source and write to destination\n",
    "        for line in src:\n",
    "            dest.write(line)\n",
    "    print(\"File copied successfully.\")\n",
    "except FileNotFoundError:\n",
    "    print(f\"Error: The file '{source_file}' was not found.\")\n"
   ]
  },
  {
   "cell_type": "code",
   "execution_count": 9,
   "id": "23f85bcd",
   "metadata": {},
   "outputs": [
    {
     "name": "stdout",
     "output_type": "stream",
     "text": [
      "Error: You can't divide by zero.\n"
     ]
    }
   ],
   "source": [
    "# Q.5  How would you catch and handle division by zero error in Python ?\n",
    "\n",
    "try:\n",
    "    numerator = int(input(\"Enter numerator: \"))\n",
    "    denominator = int(input(\"Enter denominator: \"))\n",
    "    result = numerator / denominator\n",
    "    print(f\"Result: {result}\")\n",
    "except ZeroDivisionError:\n",
    "    print(\"Error: You can't divide by zero.\")\n"
   ]
  },
  {
   "cell_type": "code",
   "execution_count": 10,
   "id": "80635321",
   "metadata": {},
   "outputs": [
    {
     "name": "stdout",
     "output_type": "stream",
     "text": [
      "Error: Cannot divide by zero. Details logged.\n"
     ]
    }
   ],
   "source": [
    "# Q.6  Write a Python program that logs an error message to a log file when a division by zero exception occurs.\n",
    "\n",
    "import logging\n",
    "\n",
    "# Configure logging to write to a file\n",
    "logging.basicConfig(\n",
    "    filename=\"error_log.txt\",\n",
    "    level=logging.ERROR,\n",
    "    format=\"%(asctime)s - %(levelname)s - %(message)s\"\n",
    ")\n",
    "\n",
    "try:\n",
    "    numerator = int(input(\"Enter numerator: \"))\n",
    "    denominator = int(input(\"Enter denominator: \"))\n",
    "    result = numerator / denominator\n",
    "    print(f\"Result: {result}\")\n",
    "except ZeroDivisionError as e:\n",
    "    logging.error(\"Attempted division by zero.\")\n",
    "    print(\"Error: Cannot divide by zero. Details logged.\")\n"
   ]
  },
  {
   "cell_type": "code",
   "execution_count": 11,
   "id": "94c6d802",
   "metadata": {},
   "outputs": [],
   "source": [
    "# Q.7  How do you log information at different levels (INFO, ERROR, WARNING) in Python using the logging module ?\n",
    "\n",
    "import logging\n",
    "\n",
    "# Configure the logging system\n",
    "logging.basicConfig(\n",
    "    filename='app.log',\n",
    "    level=logging.DEBUG,  # Set the minimum logging level\n",
    "    format='%(asctime)s - %(levelname)s - %(message)s'\n",
    ")\n",
    "\n",
    "# Log messages at different levels\n",
    "logging.debug(\"This is a DEBUG message — useful for diagnostics.\")\n",
    "logging.info(\"This is an INFO message — general information.\")\n",
    "logging.warning(\"This is a WARNING — something unexpected but not critical.\")\n",
    "logging.error(\"This is an ERROR — something went wrong.\")\n",
    "logging.critical(\"This is a CRITICAL error — serious failure.\")\n"
   ]
  },
  {
   "cell_type": "code",
   "execution_count": 12,
   "id": "323c6e52",
   "metadata": {},
   "outputs": [
    {
     "name": "stdout",
     "output_type": "stream",
     "text": [
      "Error: The file 'non_existing_file.txt' does not exist.\n"
     ]
    }
   ],
   "source": [
    "# Q.8  Write a program to handle a file opening error using exception handling.\n",
    "\n",
    "filename = \"non_existing_file.txt\"\n",
    "\n",
    "try:\n",
    "    with open(filename, \"r\") as file:\n",
    "        content = file.read()\n",
    "        print(content)\n",
    "except FileNotFoundError:\n",
    "    print(f\"Error: The file '{filename}' does not exist.\")\n"
   ]
  },
  {
   "cell_type": "code",
   "execution_count": 13,
   "id": "edd10eac",
   "metadata": {},
   "outputs": [
    {
     "name": "stdout",
     "output_type": "stream",
     "text": [
      "['Hello, this is a string written to the file.\\n', 'This file is only for Assignment purpose.']\n"
     ]
    }
   ],
   "source": [
    "# Q.9  How can you read a file line by line and store its content in a list in Python ?\n",
    "\n",
    "filename = \"example.txt\"\n",
    "try:\n",
    "    with open(filename, \"r\") as file:\n",
    "        lines = file.readlines()  \n",
    "    print(lines)  \n",
    "except FileNotFoundError:\n",
    "    print(f\"Error: The file '{filename}' does not exist.\")\n"
   ]
  },
  {
   "cell_type": "code",
   "execution_count": 29,
   "id": "9bad3b42",
   "metadata": {},
   "outputs": [
    {
     "name": "stdout",
     "output_type": "stream",
     "text": [
      "Hello, this is a string written to the file.\n",
      "\n",
      "This file is only for Assignment\n",
      "\n",
      "This is new line\n"
     ]
    }
   ],
   "source": [
    "# Q.10  How can you append data to an existing file in Python ?\n",
    "\n",
    "New = \"example.txt\"\n",
    "with open(New , \"a\") as file:\n",
    "    file.write(\"\\nThis is new line\")\n",
    "\n",
    "with open(New , \"r\") as file:\n",
    "    for line in file:\n",
    "        print(line)\n"
   ]
  },
  {
   "cell_type": "code",
   "execution_count": 30,
   "id": "c5c10566",
   "metadata": {},
   "outputs": [
    {
     "name": "stdout",
     "output_type": "stream",
     "text": [
      "Error: The key 'email' does not exist in the dictionary.\n"
     ]
    }
   ],
   "source": [
    "# Q.11 Write a Python program that uses a try-except block to handle an error when attempting to access a dictionary key that doesn't exist.\n",
    "\n",
    "# Sample dictionary\n",
    "my_dict = {\"name\": \"Bhaumik\", \"age\": 22, \"city\": \"Mumbai\"}\n",
    "\n",
    "# Key to be accessed\n",
    "key = \"email\"\n",
    "\n",
    "try:\n",
    "    # Attempting to access a key that might not exist\n",
    "    value = my_dict[key]\n",
    "    print(f\"The value for '{key}' is {value}\")\n",
    "except KeyError:\n",
    "    # Handling the case where the key doesn't exist\n",
    "    print(f\"Error: The key '{key}' does not exist in the dictionary.\")\n"
   ]
  },
  {
   "cell_type": "code",
   "execution_count": null,
   "id": "1eff4e18",
   "metadata": {},
   "outputs": [
    {
     "name": "stdout",
     "output_type": "stream",
     "text": [
      "Error: Please enter valid integers.\n"
     ]
    }
   ],
   "source": [
    "# Q.12 Write a program that demonstrates using multiple except blocks to handle different types of exceptions.\n",
    "\n",
    "try:\n",
    "    # Try block to raise different exceptions\n",
    "    num1 = int(input(\"Enter a number: \"))  # Can raise ValueError\n",
    "    num2 = int(input(\"Enter another number: \"))  # Can raise ValueError\n",
    "    result = num1 / num2  # Can raise ZeroDivisionError\n",
    "    print(f\"The result of {num1} / {num2} is {result}\")\n",
    "    \n",
    "    # Trying to open a file\n",
    "    with open(\"example.txt\", \"r\") as file:  # Can raise FileNotFoundError\n",
    "        content = file.read()\n",
    "        print(content)\n",
    "        \n",
    "except ValueError:\n",
    "    print(\"Error: Please enter valid integers.\")\n",
    "except ZeroDivisionError:\n",
    "    print(\"Error: Cannot divide by zero.\")\n",
    "except FileNotFoundError:\n",
    "    print(\"Error: The file 'example.txt' does not exist.\")\n"
   ]
  },
  {
   "cell_type": "code",
   "execution_count": null,
   "id": "29ed393a",
   "metadata": {},
   "outputs": [
    {
     "name": "stdout",
     "output_type": "stream",
     "text": [
      "Hello, this is a string written to the file.\n",
      "This file is only for Assignment\n",
      "This is new line\n"
     ]
    }
   ],
   "source": [
    "# Q.13 How would you check if a file exists before attempting to read it in Python.\n",
    "\n",
    "import os\n",
    "\n",
    "filename = \"example.txt\"\n",
    "\n",
    "if os.path.exists(filename):\n",
    "    with open(filename, \"r\") as file:\n",
    "        content = file.read()\n",
    "        print(content)\n",
    "else:\n",
    "    print(f\"Error: The file '{filename}' does not exist.\")\n"
   ]
  },
  {
   "cell_type": "code",
   "execution_count": 33,
   "id": "64272b12",
   "metadata": {},
   "outputs": [],
   "source": [
    "# Q.14  Write a program that uses the logging module to log both informational and error messages.\n",
    "\n",
    "import logging\n",
    "\n",
    "# Configure logging to log messages to a file with a specific format\n",
    "logging.basicConfig(\n",
    "    filename='app.log',\n",
    "    level=logging.DEBUG,  # Log messages from DEBUG level and above\n",
    "    format='%(asctime)s - %(levelname)s - %(message)s'\n",
    ")\n",
    "\n",
    "# Log an informational message\n",
    "logging.info(\"This is an informational message.\")\n",
    "\n",
    "try:\n",
    "    # Simulate a block of code that could raise an exception\n",
    "    x = 10 / 0  # Division by zero, will raise an exception\n",
    "except ZeroDivisionError:\n",
    "    # Log an error message\n",
    "    logging.error(\"Error: Division by zero occurred.\")\n",
    "\n",
    "# Log another informational message\n",
    "logging.info(\"The program completed successfully.\")\n"
   ]
  },
  {
   "cell_type": "code",
   "execution_count": 34,
   "id": "9d4d8342",
   "metadata": {},
   "outputs": [
    {
     "name": "stdout",
     "output_type": "stream",
     "text": [
      "Hello, this is a string written to the file.\n",
      "This file is only for Assignment\n",
      "This is new line\n"
     ]
    }
   ],
   "source": [
    "# Q.15  Write a Python program that prints the content of a file and handles the case when the file is empty\n",
    "\n",
    "filename = \"example.txt\"\n",
    "\n",
    "try:\n",
    "    with open(filename, \"r\") as file:\n",
    "        content = file.read()  # Read the entire content of the file\n",
    "        \n",
    "        # Check if the file is empty\n",
    "        if content:\n",
    "            print(content)\n",
    "        else:\n",
    "            print(f\"The file '{filename}' is empty.\")\n",
    "except FileNotFoundError:\n",
    "    print(f\"Error: The file '{filename}' does not exist.\")\n"
   ]
  },
  {
   "cell_type": "code",
   "execution_count": 36,
   "id": "9fd6e1d2",
   "metadata": {},
   "outputs": [
    {
     "name": "stdout",
     "output_type": "stream",
     "text": [
      "Memory usage of a (list with 1 million elements): 8000056 bytes\n",
      "Memory usage of b (string): 54 bytes\n"
     ]
    }
   ],
   "source": [
    "# Q.16  Demonstrate how to use memory profiling to check the memory usage of a small program ?\n",
    "\n",
    "import sys\n",
    "\n",
    "# Create some variables\n",
    "a = [1] * (10**6)  # List with 1 million elements\n",
    "b = \"Hello, world!\"  # String\n",
    "\n",
    "# Get memory usage of the variables\n",
    "print(f\"Memory usage of a (list with 1 million elements): {sys.getsizeof(a)} bytes\")\n",
    "print(f\"Memory usage of b (string): {sys.getsizeof(b)} bytes\")\n",
    "\n"
   ]
  },
  {
   "cell_type": "code",
   "execution_count": 41,
   "id": "750d7ccb",
   "metadata": {},
   "outputs": [
    {
     "name": "stdout",
     "output_type": "stream",
     "text": [
      "Numbers have been written to 'numbers.txt'.\n",
      "1\n",
      "\n",
      "2\n",
      "\n",
      "3\n",
      "\n",
      "4\n",
      "\n",
      "5\n",
      "\n",
      "6\n",
      "\n",
      "7\n",
      "\n",
      "8\n",
      "\n",
      "9\n",
      "\n",
      "10\n",
      "\n"
     ]
    }
   ],
   "source": [
    "# Q.17  Write a Python program to create and write a list of numbers to a file, one number per line\n",
    "\n",
    "# List of numbers to write to the file\n",
    "numbers = [1, 2, 3, 4, 5, 6, 7, 8, 9, 10]\n",
    "\n",
    "# Open a file in write mode\n",
    "with open(\"numbers.txt\", \"w\") as file:\n",
    "    for number in numbers:\n",
    "        file.write(f\"{number}\\n\")\n",
    "\n",
    "print(\"Numbers have been written to 'numbers.txt'.\")\n",
    "\n",
    "with open(\"numbers.txt\" , \"r\") as Read:\n",
    "    for i in Read:\n",
    "        print(i)\n"
   ]
  },
  {
   "cell_type": "code",
   "execution_count": 42,
   "id": "6714958f",
   "metadata": {},
   "outputs": [
    {
     "name": "stdout",
     "output_type": "stream",
     "text": [
      "Logging has been set up with file rotation.\n"
     ]
    }
   ],
   "source": [
    "# Q.18  How would you implement a basic logging setup that logs to a file with rotation after 1MB ?\n",
    "\n",
    "import logging\n",
    "from logging.handlers import RotatingFileHandler\n",
    "\n",
    "# Set up logging configuration\n",
    "log_filename = \"app.log\"\n",
    "\n",
    "# Create a RotatingFileHandler that rotates the log file when it exceeds 1MB (1048576 bytes)\n",
    "handler = RotatingFileHandler(log_filename, maxBytes=1048576, backupCount=3)\n",
    "\n",
    "# Create a logging format\n",
    "formatter = logging.Formatter('%(asctime)s - %(levelname)s - %(message)s')\n",
    "handler.setFormatter(formatter)\n",
    "\n",
    "# Set up the root logger\n",
    "logging.basicConfig(level=logging.DEBUG, handlers=[handler])\n",
    "\n",
    "# Example log messages\n",
    "logging.debug(\"This is a debug message.\")\n",
    "logging.info(\"This is an informational message.\")\n",
    "logging.warning(\"This is a warning message.\")\n",
    "logging.error(\"This is an error message.\")\n",
    "logging.critical(\"This is a critical message.\")\n",
    "\n",
    "print(\"Logging has been set up with file rotation.\")\n",
    "\n"
   ]
  },
  {
   "cell_type": "code",
   "execution_count": 43,
   "id": "7f966a73",
   "metadata": {},
   "outputs": [
    {
     "name": "stdout",
     "output_type": "stream",
     "text": [
      "IndexError: list index out of range - You tried to access an index that is out of range in the list.\n"
     ]
    }
   ],
   "source": [
    "# Q.19  Write a program that handles both IndexError and KeyError using a try-except block\n",
    "\n",
    "my_list = [1, 2, 3]\n",
    "my_dict = {\"name\": \"Bhaumik\", \"age\": 22}\n",
    "\n",
    "# Trying to access elements that might raise errors\n",
    "try:\n",
    "    # Trying to access an index in the list that may not exist\n",
    "    print(my_list[5])  # IndexError: list index out of range\n",
    "    \n",
    "    # Trying to access a key in the dictionary that may not exist\n",
    "    print(my_dict[\"address\"])  # KeyError: 'address'\n",
    "    \n",
    "except IndexError as ie:\n",
    "    print(f\"IndexError: {ie} - You tried to access an index that is out of range in the list.\")\n",
    "    \n",
    "except KeyError as ke:\n",
    "    print(f\"KeyError: {ke} - You tried to access a key that does not exist in the dictionary.\")\n"
   ]
  },
  {
   "cell_type": "code",
   "execution_count": 44,
   "id": "664dee05",
   "metadata": {},
   "outputs": [
    {
     "name": "stdout",
     "output_type": "stream",
     "text": [
      "Hello, this is a string written to the file.\n",
      "This file is only for Assignment\n",
      "This is new line\n"
     ]
    }
   ],
   "source": [
    "# Q.20  How would you open a file and read its contents using a context manager in Python\n",
    "\n",
    "filename = \"example.txt\"\n",
    "\n",
    "with open(filename, \"r\") as file:\n",
    "    content = file.read()\n",
    "\n",
    "print(content)\n"
   ]
  },
  {
   "cell_type": "code",
   "execution_count": 46,
   "id": "1eb1b3f9",
   "metadata": {},
   "outputs": [
    {
     "name": "stdout",
     "output_type": "stream",
     "text": [
      "The word 'This' appears 3 times in the file.\n"
     ]
    }
   ],
   "source": [
    "# Q.21 Write a Python program that reads a file and prints the number of occurrences of a specific word.\n",
    "\n",
    "def count_word_occurrences(filename, word_to_count):\n",
    "    try:\n",
    "        with open(filename, \"r\") as file:\n",
    "            # Read the contents of the file\n",
    "            content = file.read()\n",
    "            \n",
    "            # Count the occurrences of the specific word\n",
    "            word_count = content.lower().split().count(word_to_count.lower())\n",
    "            \n",
    "            return word_count\n",
    "\n",
    "    except FileNotFoundError:\n",
    "        print(f\"Error: The file '{filename}' does not exist.\")\n",
    "        return 0\n",
    "\n",
    "# Specify the filename and the word to count\n",
    "filename = \"example.txt\"\n",
    "word_to_count = \"This\"\n",
    "\n",
    "# Get the count of the word\n",
    "count = count_word_occurrences(filename, word_to_count)\n",
    "\n",
    "if count > 0:\n",
    "    print(f\"The word '{word_to_count}' appears {count} times in the file.\")\n",
    "else:\n",
    "    print(f\"The word '{word_to_count}' was not found in the file.\")\n",
    "\n"
   ]
  },
  {
   "cell_type": "code",
   "execution_count": 47,
   "id": "55586c46",
   "metadata": {},
   "outputs": [
    {
     "name": "stdout",
     "output_type": "stream",
     "text": [
      "Hello, this is a string written to the file.\n",
      "This file is only for Assignment\n",
      "This is new line\n"
     ]
    }
   ],
   "source": [
    "# Q.22  How can you check if a file is empty before attempting to read its contents ?\n",
    "\n",
    "import os\n",
    "\n",
    "def read_file_if_not_empty(filename):\n",
    "    # Check if the file exists and is not empty\n",
    "    if os.path.exists(filename) and os.path.getsize(filename) > 0:\n",
    "        with open(filename, \"r\") as file:\n",
    "            content = file.read()  # Read the content of the file\n",
    "            print(content)\n",
    "    else:\n",
    "        print(f\"The file '{filename}' is empty or does not exist.\")\n",
    "\n",
    "# Specify the filename\n",
    "filename = \"example.txt\"\n",
    "read_file_if_not_empty(filename)\n",
    "\n",
    "\n"
   ]
  },
  {
   "cell_type": "code",
   "execution_count": 48,
   "id": "9d183b55",
   "metadata": {},
   "outputs": [
    {
     "name": "stdout",
     "output_type": "stream",
     "text": [
      "Data successfully written to 'example.txt'.\n",
      "Hello, this is a log test.\n"
     ]
    }
   ],
   "source": [
    "# Q.23  Write a Python program that writes to a log file when an error occurs during file handling.\n",
    "\n",
    "import logging\n",
    "\n",
    "# Set up logging configuration\n",
    "logging.basicConfig(\n",
    "    filename=\"error_log.txt\",  # Log file where errors will be recorded\n",
    "    level=logging.ERROR,  # Log only ERROR and above (ERROR, CRITICAL)\n",
    "    format=\"%(asctime)s - %(levelname)s - %(message)s\"\n",
    ")\n",
    "\n",
    "def read_file(filename):\n",
    "    try:\n",
    "        with open(filename, \"r\") as file:\n",
    "            content = file.read()\n",
    "            print(content)\n",
    "    except FileNotFoundError as e:\n",
    "        logging.error(f\"File '{filename}' not found. Error: {e}\")\n",
    "        print(f\"Error: File '{filename}' not found.\")\n",
    "    except Exception as e:\n",
    "        logging.error(f\"An unexpected error occurred while reading the file '{filename}'. Error: {e}\")\n",
    "        print(f\"An unexpected error occurred while reading the file '{filename}'.\")\n",
    "\n",
    "def write_to_file(filename, data):\n",
    "    try:\n",
    "        with open(filename, \"w\") as file:\n",
    "            file.write(data)\n",
    "            print(f\"Data successfully written to '{filename}'.\")\n",
    "    except Exception as e:\n",
    "        logging.error(f\"An error occurred while writing to the file '{filename}'. Error: {e}\")\n",
    "        print(f\"An error occurred while writing to the file '{filename}'.\")\n",
    "\n",
    "# Example Usage:\n",
    "filename = \"example.txt\"\n",
    "data = \"Hello, this is a log test.\"\n",
    "\n",
    "# Write to the file\n",
    "write_to_file(filename, data)\n",
    "\n",
    "# Read from the file\n",
    "read_file(filename)\n"
   ]
  }
 ],
 "metadata": {
  "kernelspec": {
   "display_name": "Python 3",
   "language": "python",
   "name": "python3"
  },
  "language_info": {
   "codemirror_mode": {
    "name": "ipython",
    "version": 3
   },
   "file_extension": ".py",
   "mimetype": "text/x-python",
   "name": "python",
   "nbconvert_exporter": "python",
   "pygments_lexer": "ipython3",
   "version": "3.13.2"
  }
 },
 "nbformat": 4,
 "nbformat_minor": 5
}
